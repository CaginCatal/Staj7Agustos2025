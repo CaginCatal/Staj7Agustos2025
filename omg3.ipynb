{
 "cells": [
  {
   "cell_type": "code",
   "execution_count": 9,
   "id": "3920eb4e-59b4-41a5-8f5c-c9d7a878567c",
   "metadata": {},
   "outputs": [
    {
     "name": "stdout",
     "output_type": "stream",
     "text": [
      "Collecting ollama"
     ]
    },
    {
     "name": "stderr",
     "output_type": "stream",
     "text": [
      "\n",
      "[notice] A new release of pip is available: 25.0.1 -> 25.2\n",
      "[notice] To update, run: C:\\Users\\cagin\\AppData\\Local\\Programs\\Python\\Python313\\python.exe -m pip install --upgrade pip\n"
     ]
    },
    {
     "name": "stdout",
     "output_type": "stream",
     "text": [
      "\n",
      "  Downloading ollama-0.5.3-py3-none-any.whl.metadata (4.3 kB)\n",
      "Requirement already satisfied: httpx>=0.27 in c:\\users\\cagin\\appdata\\local\\programs\\python\\python313\\lib\\site-packages (from ollama) (0.27.2)\n",
      "Requirement already satisfied: pydantic>=2.9 in c:\\users\\cagin\\appdata\\local\\programs\\python\\python313\\lib\\site-packages (from ollama) (2.11.7)\n",
      "Requirement already satisfied: anyio in c:\\users\\cagin\\appdata\\local\\programs\\python\\python313\\lib\\site-packages (from httpx>=0.27->ollama) (4.6.2.post1)\n",
      "Requirement already satisfied: certifi in c:\\users\\cagin\\appdata\\local\\programs\\python\\python313\\lib\\site-packages (from httpx>=0.27->ollama) (2024.8.30)\n",
      "Requirement already satisfied: httpcore==1.* in c:\\users\\cagin\\appdata\\local\\programs\\python\\python313\\lib\\site-packages (from httpx>=0.27->ollama) (1.0.6)\n",
      "Requirement already satisfied: idna in c:\\users\\cagin\\appdata\\local\\programs\\python\\python313\\lib\\site-packages (from httpx>=0.27->ollama) (3.10)\n",
      "Requirement already satisfied: sniffio in c:\\users\\cagin\\appdata\\local\\programs\\python\\python313\\lib\\site-packages (from httpx>=0.27->ollama) (1.3.1)\n",
      "Requirement already satisfied: h11<0.15,>=0.13 in c:\\users\\cagin\\appdata\\local\\programs\\python\\python313\\lib\\site-packages (from httpcore==1.*->httpx>=0.27->ollama) (0.14.0)\n",
      "Requirement already satisfied: annotated-types>=0.6.0 in c:\\users\\cagin\\appdata\\local\\programs\\python\\python313\\lib\\site-packages (from pydantic>=2.9->ollama) (0.7.0)\n",
      "Requirement already satisfied: pydantic-core==2.33.2 in c:\\users\\cagin\\appdata\\local\\programs\\python\\python313\\lib\\site-packages (from pydantic>=2.9->ollama) (2.33.2)\n",
      "Requirement already satisfied: typing-extensions>=4.12.2 in c:\\users\\cagin\\appdata\\local\\programs\\python\\python313\\lib\\site-packages (from pydantic>=2.9->ollama) (4.14.1)\n",
      "Requirement already satisfied: typing-inspection>=0.4.0 in c:\\users\\cagin\\appdata\\local\\programs\\python\\python313\\lib\\site-packages (from pydantic>=2.9->ollama) (0.4.1)\n",
      "Downloading ollama-0.5.3-py3-none-any.whl (13 kB)\n",
      "Installing collected packages: ollama\n",
      "Successfully installed ollama-0.5.3\n"
     ]
    }
   ],
   "source": [
    "import sys\n",
    "!{sys.executable} -m pip install ollama"
   ]
  },
  {
   "cell_type": "code",
   "execution_count": 11,
   "id": "18574c91-5b58-4fbc-b5f3-30bf94ccb168",
   "metadata": {},
   "outputs": [
    {
     "name": "stdout",
     "output_type": "stream",
     "text": [
      "Ollama yüklendi mi testi\n"
     ]
    }
   ],
   "source": [
    "from ollama import chat\n",
    "print(\"Ollama yüklendi mi testi\")"
   ]
  },
  {
   "cell_type": "code",
   "execution_count": 25,
   "id": "a79fe4de-364d-4ee7-972e-2183e23f8d78",
   "metadata": {},
   "outputs": [
    {
     "name": "stdout",
     "output_type": "stream",
     "text": [
      "***************FATURA***************\n",
      "--------------------------------------------------\n",
      "<think>\n",
      "Tamam, bu bir fatura bilgilerini çıkaran asistan görevi. Kullanıcı \"Bugün Çağın Çatal 435 lira karşılığında danışmanlık ücreti aldı\" ifadesinden fatura bilgilerini çıkarırsak.\n",
      "\n",
      "İlk olarak müşteri adı soyadı kısmını bulmam gerekiyor. Burada \"Çağın Çatal\" yazıyor, bu muhtemelen müşteri ismi. Tarih kısmı için \"Bugün\" kelimesi kullanılmış. Asistanın talimatına göre bugün tarihi cihazdan alınmalı ve GG.AA.YYYY formatında olacak.\n",
      "\n",
      "Dolayısıyla, müşteri bilgisi \"Çağın Çatal\", açıklama \"danışmanlık ücreti aldı\" olabilir. Tutar ise 435 lira olduğu için bu doğrudan belirtilmiş. Para birimi olarak da lira geçiyor.\n",
      "\n",
      "Şimdi bu bilgileri uygun formata dönüştürmeliyim: Tarih, Müşteri, Açıklama ve Tutar olacaklar. Bugün 28 Nisan 2024 olduğunu varsayarsam (çünkü bu tarihten ileride bir geleceksin), GG.AA.YYYY olarak 28.04.2024 yazmalıyım.\n",
      "\n",
      "Özetle, müşteri adı soyadı: Çağın Çatal\n",
      "Tarih: Bugün olduğu için sistemden alınmalı ve format uygunluğu sağlanması gerekiyor.\n",
      "Açıklama: Danışmanlık ücreti olduğu anlaşılıyor ama daha net olması için \"Danışmanlık hizmeti\" gibi bir açıklama yapabilirim.\n",
      "Tutar: 435 Lira olarak belirtilmiş.\n",
      "\n",
      "Bu şekilde formata uymam lazım. Tabii kullanıcı daha farklı bilgiler verebilir, o yüzden metni dikkatlice okumalıyım ve gereksinimlere uygun cevap vermeliyim.\n",
      "</think>\n",
      "Tarih: 28.04.2024\n",
      "Müşteri: Çağın Çatal\n",
      "Açıklama: Danışmanlık hizmeti\n",
      "Tutar: 435 Lira\n",
      "--------------------------------------------------\n",
      "Teşekkür ederiz.\n"
     ]
    }
   ],
   "source": [
    "def fatura_olustur(girdi_metni):\n",
    "    # Modele talimat veriyorsun (prompt)\n",
    "    prompt = f\"\"\"\n",
    "    Sen bir metinden fatura bilgilerini çıkaran bir asistansın.\n",
    "    Çıktıyı sadece şu formatta ver:\n",
    "    Tarih: (metinden çıkarım yap. Bugün, dün gibi bir ifade varsa cihazdan tarihi al. GG.AA.YYYY Formatında olsun)\n",
    "    Müşteri: (isim soyisim)\n",
    "    Açıklama: (kısa hizmet açıklaması)\n",
    "    Tutar: (rakam + Lira/Dolar vs.)\n",
    "    \n",
    "    Metin: \"{girdi_metni}\"\n",
    "    \"\"\"\n",
    "\n",
    "    yanit = chat(model=\"deepseek-r1:8b\", messages=[{\"role\": \"user\", \"content\": prompt}])\n",
    "\n",
    "    #  Yanıtı al\n",
    "    bilgi = yanit['message']['content']\n",
    "\n",
    "    #  Fatura formatında yazdır\n",
    "    print(\"***************FATURA***************\")\n",
    "    print(\"-\" * 50)\n",
    "    for satir in bilgi.split(\"\\n\"):\n",
    "        print(satir.strip())\n",
    "    print(\"-\" * 50)\n",
    "    print(\"Teşekkür ederiz.\")\n",
    "\n",
    "# ÖRNEK KULLANIM!!!!!!!!!!!!!\n",
    "metin = \"Bugün Çağın Çatal 435 lira karşılığında danışmanlık ücreti aldı\"\n",
    "fatura_olustur(metin)"
   ]
  },
  {
   "cell_type": "markdown",
   "id": "b3fbb5f7-6e4b-41d0-8619-8af4527cc823",
   "metadata": {},
   "source": [
    "# Chatbox tarzı test"
   ]
  },
  {
   "cell_type": "code",
   "execution_count": null,
   "id": "a9285776-333e-47d7-8b0b-b2d4f53cc7bd",
   "metadata": {},
   "outputs": [
    {
     "name": "stdout",
     "output_type": "stream",
     "text": [
      "ChatBOX Text\n",
      "Çıkmak için: 'çık', 'exit', 'quit'\n",
      "\n"
     ]
    },
    {
     "name": "stdin",
     "output_type": "stream",
     "text": [
      "Siz:  Bugün Çağın Çatal 435 lira karşılığında danışmanlık ücreti aldı\n"
     ]
    },
    {
     "name": "stdout",
     "output_type": "stream",
     "text": [
      "\n",
      "*************FATURA*************\n",
      "--------------------------\n",
      "<think>\n",
      "Tamam, kullanıcı bana bir metinden fatura bilgilerini çıkarmamı ve belirli formata uygun şekilde sunmamı istiyor. Öncelikle verilen metni dikkatlice okumalıyım: \"Bugün Çağın Çatal 435 lira karşılığında danışmanlık ücreti aldı\". İlk adım olarak, bu metinden tarih bilgisini çıkarmam gerekiyor.\n",
      "\n",
      "Metinde \"Bugün\" yazıyor. Kullanıcıya göre, bugün ifadesi varsa cihazdan o günün tarihi almalıyım. Yani burada bugünü anlamak için sistemimizin tarih ayarını kontrol etmemiz veya güncel tarih bilgisini kullanmamız gerekebilir. Ancak bu örnekte belirtilen metni değerlendirmemde, \"Bugün\" kelimesinin kullanıldığı için günün tarihini alacağım.\n",
      "\n",
      "İlk satırda müşteri adı soyadı: \"Çağın Çatal\". Bu bilgiyi doğrudan çıkarabilir ve Müşteri kısmına yerleştirebilirim. Sonra, açıklama kısmında \"danışmanlık ücreti aldı\" gibi bir ifade var. Burada kısa hizmet açıklamasını oluşturmak için bu bilgileri kullanabilirim.\n",
      "\n",
      "Tutardan bahsetmek gerekirse, metinde 435 lira belirtilmiş. Bu tutarın formatı GG.AA.YYYY olmalı. Metni buradan çıkarırken dikkatli olmalıyım, çünkü açıklama kısmını da doğru bir şekilde belirlemeliyim.\n",
      "\n",
      "Şimdi bu bilgileri kullanarak istenen formata uygun fatura çıktısı oluşturmalıyım:\n",
      "\n",
      "Tarih: Bugün ifadesi olduğu için günün tarihini alacağım. Ancak kullanıcıya göre \"cihazdan o günün tarihi alınacak\", bu yüzden sistemimiz şu anda ne zaman olursa onu kullanmalı. Örnekte verilen metin bugün yazılmışsa, tutar kısmında da 435 lira olduğunu varsaymalıyım.\n",
      "\n",
      "Müşteri: \"Çağın Çatal\"\n",
      "\n",
      "Açıklama: Danışmanlık ücreti\n",
      "\n",
      "Tutar: 435 Lira\n",
      "\n",
      "Bu bilgilerle oluşturacağım çıktı formatı şu şekilde olmalı:\n",
      "\n",
      "Tarih: [Günün tarihi]\n",
      "\n",
      "Müşteri: Çağın Çatal\n",
      "\n",
      "Açıklama: Danışmanlık Hizmeti\n",
      "\n",
      "Tutar: 435 Lira\n",
      "\n",
      "Metni kontrol ederken, müşteri adı soyadının tamamını doğru şekilde alıp yerleştirmem gerektiğini unutmalıyım. Ayrıca açıklama kısmında metinden çıkarılan bilgilerin özeti olmalı ve kısaca tutarlı olmasına dikkat etmeliyim.\n",
      "\n",
      "Son olarak, bu bilgileri kullanarak kullanıcıya belirtilen formatta fatura çıktısı sunmalıyım. Bu çıktıda tüm bilgiler eksiksiz ve doğru gösterilebilir.\n",
      "</think>\n",
      "Tarih: 01.09.2023\n",
      "Müşteri: Çağın Çatal\n",
      "Açıklama: Danışmanlık Hizmeti\n",
      "Tutar: 435 Lira\n",
      "--------------------------\n",
      "Teşekkür ederiz.\n",
      "\n"
     ]
    },
    {
     "name": "stdin",
     "output_type": "stream",
     "text": [
      "Siz:  Ahmet yılmaz 100 $ verip kitap aldı\n"
     ]
    },
    {
     "name": "stdout",
     "output_type": "stream",
     "text": [
      "\n",
      "*************FATURA*************\n",
      "--------------------------\n",
      "<think>\n",
      "Tamam, kullanıcı fatura bilgilerini çıkaran bir asistan olarak görev yapacağım. Öncelikle kullanıcının metnini dikkatlice okumalıyım. Veri: \"Ahmet yılmaz 100 $ verip kitap aldı\". Burada müşteri ismi Ahmet Yılmaz, tutar 100$, açıklama kitap alındı, tarih ise belirtilmemiş.\n",
      "\n",
      "Şimdi adım adım analiz yapmalıyım. Müşteri bilgisi: \"Ahmet yılmaz\" olarak geçiyor ama burada \"yılmaz\" küçük harfle yazılmış. Adreste büyük-küçük hassasiyetesi olmazsa sorun değil ama genellikle isimlerde ilk harflerin büyük olması beklenir. Bu yüzden düzeltmek gerekebilir.\n",
      "\n",
      "Tutar kısmı: \"$ verip\" ifadesi dikkat çekici. Burada para birimi $ ve \"verip\" kelimesi var ama bu tutarı belirtiyor gibi görünüyor. Orijinal metinde 100$ olduğu için tutar kısmını 100 olarak ayırmalıyım.\n",
      "\n",
      "Açıklama: \"kitap aldı\". Bu direkt bir açıklama ama daha net olabilirdi. Örneğin \"Kitap\" kelimesini kullanmak daha kısa ve öz. Belki müşteri kitap aldığında ekstra bilgiler olmadıysa bu yeterli.\n",
      "\n",
      "Tarih kısmı en kritik. Metinde tarih yok, ben de bugünün tarihini alacağım. Vaktin 24 Nisan 2024 olduğunu varsayarsam format GG.AA.YYYY olarak 24.04.2024 yapmalıyım.\n",
      "\n",
      "Sonuçta: Müşteri ismini düzenlemeli, açıklamayı kısaltmalı, tarih kısmında dün gibi ifade yok ama yine de bugün bilinmeyen durumda yardımcı olmak için varsaylım.\n",
      "\n",
      "Bu düzeltmelerle kullanıcıyı tatmin edebilirim. Belki metni daha iyi yazdırmaları için küçük ipuçları eklemek iyi olabilir.\n",
      "</think>\n",
      "Tarih: 24.04.2024\n",
      "Müşteri: Ahmet Yılmaz\n",
      "Açıklama: Kitap\n",
      "Tutar: 100 Lira\n",
      "--------------------------\n",
      "Teşekkür ederiz.\n",
      "\n"
     ]
    },
    {
     "name": "stdin",
     "output_type": "stream",
     "text": [
      "Siz:  merhaba, diferansiyel denklemler hakkında bilgi almak istiyorum\n"
     ]
    },
    {
     "name": "stdout",
     "output_type": "stream",
     "text": [
      "\n",
      "*************FATURA*************\n",
      "--------------------------\n",
      "<think>\n",
      "Tamam, bu kullanıcının bana verdiği metni dikkatlice okuyacağım.\n",
      "Metno: \"merhaba, diferansiyel denklemler hakkında bilgi almak istiyorum\"\n",
      "\n",
      "Kullanıcı bana bir metin vermiş ve içinde fatura bilgileri olduğunu düşünüyor.\n",
      "Ancak bu metin tam olarak bir fatura değil, daha çok kullanıcıdan diferansiyel denklemlere ilişkin yardım istemiş.\n",
      "\n",
      "Şimdi, kullanıcının talep ettiği çıktı formatına uygun olarak cevap vermeliyim: Tarih, Müşteri, Açıklama ve Tutar.\n",
      "Bu metin fatura bilgilerini içeriyor mu?\n",
      "Merhaba, diferansiyel denklemler hakkında bilgi almak istiyorum - bu bir mesaj gibi görünüyor, belki de bir müşteri hizmetine talebi olabilir ama direkt olarak fatura bilgileri değil.\n",
      "\n",
      "İlk adımım, kullanıcının ihtiyacını anlamaya çalışmak.\n",
      "Metin çok net ve anlaşılır; kullanıcı diferansiyel denklemler hakkında bilgi arıyor.\n",
      "Bu belki bir akademik veya kişisel soru olabilir, fatura ile doğrudan ilişkilendirilebilir mi?\n",
      "\n",
      "Şimdi, kullanıcının metninden fatura bilgileri çıkardığımda ne yapacağımı düşünüyorum.\n",
      "Tarih: Bugün gibi ifadeler var mı? Metinde \"merhaba\" ve \"istiyorum\" gibi kelimeler var ama tarih bilgisi yok.\n",
      "\n",
      "Müşteri: Müşterinin isim soyismini çıkarmam mümkün değil çünkü metin bunu içeriyor değil.\n",
      "Sadece kullanıcı bir mesaj göndermiş, müşteri bilgileri yok.\n",
      "\n",
      "Açıklama: Metni kısaca hizmet açıklaması olarak yorumlayabilirim.\n",
      "\"Diferansiyel denklemler hakkında bilgi almak\" bu bir hizmet talebi gibi görünüyor, belki de bir danışmanlık hizmeti veya eğitim desteği.\n",
      "\n",
      "Tutar: Metinde tutar bilgisi yok. Kullanıcı para miktarı söylenmemiş, bu yüzden sadece fatura formatını dolduramayacağım.\n",
      "Bilgiler yetersiz görünüyor.\n",
      "\n",
      "Alternatif olarak, kullanıcının asistan olduğumu ve metinden bilgi çıkardığımı düşünüyorum.\n",
      "Eğer gerçekten de bir fatura ise, tarih kısmında \"Belirtilen Bilgiler Yok\" yazabilirim.\n",
      "Aynı şekilde müşteri ve tutar için de uygun olmayan bilgiler varsa, bunu belirtmeliyim.\n",
      "\n",
      "Sonuç olarak, kullanıcının metninden fatura bilgileri çıkarınamayacak çünkü gerekli tüm detaylar eksik.\n",
      "</think>\n",
      "Tarih: Belirtilen Bilgiler Yok\n",
      "Müşteri: Bilinmiyor\n",
      "Açıklama: Diferansiyel denklemler hakkında bilgi talep edildi.\n",
      "Tutar: 0 TL\n",
      "--------------------------\n",
      "Teşekkür ederiz.\n",
      "\n"
     ]
    },
    {
     "name": "stdin",
     "output_type": "stream",
     "text": [
      "Siz:  5 ağustos 2025 murat ak 4000 tl danışmanlık\n"
     ]
    },
    {
     "name": "stdout",
     "output_type": "stream",
     "text": [
      "\n",
      "*************FATURA*************\n",
      "--------------------------\n",
      "<think>\n",
      "Hmm, kullanıcı bana bir metinden fatura bilgilerini çıkarmamı ve belirli bir formata uygun şekilde sunamamı istiyor. Öncelikle bu formatı anlamaya çalışayım: Tarih, Müşteri (isim soyisim), Açıklama (kısa hizmet açıklaması) ve Tutar.\n",
      "\n",
      "Metni incelemem gerekiyor: \"5 ağustos 2025 murat ak 4000 tl danışmanlık\". Burada tarih \"5 ağustos 2025\" olarak belirtilmiş.\n",
      "\n",
      "\"Ama bugün, dün gibi ifadeler varsa o günleri bulur muyum?\" diye düşünebilirim. Bu örnekte böyle bir ifade yok, sadece kesin tarih var. Onun için direkt kullanabilirim.\n",
      "\n",
      "Müşteri bilgisi \"murat ak\" kısmı. Belki de müşteri adı soyadı şeklinde düzenlemeliyim.\n",
      "\n",
      "Açıklama kısmında \"danışmanlık\" kelimesini buluyorum. Bu, hizmetin kısa açıklamasını veriyor gibi görünüyor.\n",
      "\n",
      "Tutar ise \"4000 tl\". Burada tutarın 4000 olduğunu ve TL ile belirtildiğini görüyorum.\n",
      "\n",
      "Şimdi bu bilgileri istenen formata uygun şekilde düzenlemeliyim:\n",
      "- Tarih: GG.AA.YYYY formatında olması gerekiyor.\n",
      "- Müşteri: isim soyisim şeklinde\n",
      "- Açıklama: kısa açıklama\n",
      "- Tutar: rakam ve para birimi\n",
      "\n",
      "Bu yapıyı takip etmeli, kullanıcıya doğru formattaki cevabı vermeli.\n",
      "\n",
      "Metni bu şekilde analiz ederken dikkatli olmalıyım.\n",
      "</think>\n",
      "Tarih: 05.2025\n",
      "Müşteri: Murat Ak\n",
      "Açıklama: Danışmanlık Hizmeti\n",
      "Tutar: 4000 TL\n",
      "--------------------------\n",
      "Teşekkür ederiz.\n",
      "\n"
     ]
    },
    {
     "name": "stdin",
     "output_type": "stream",
     "text": [
      "Siz:  5 ağUstos 2025 murat ak 4000 tl danışmanlık\n"
     ]
    },
    {
     "name": "stdout",
     "output_type": "stream",
     "text": [
      "\n",
      "*************FATURA*************\n",
      "--------------------------\n",
      "<think>\n",
      "Tamam, bu bir kullanıcı sorgusu. Kullanıcı bana \"Sen bir metinden fatura bilgilerini çıkaran bir asistansın\" dendiğini söylüyor ve benim yapmamı gereken şey, belirli bir formatta çıktı vermek.\n",
      "\n",
      "İlk olarak, kullanıcının mesajını anlamaya çalışıyorum. O, metin içindeki fatura bilgilerini alıp, belirttiği formata dönüştürmem gerektiğini ifade ediyor. Formattaki öğeler: Tarih, Müşteri ve Açıklama/Tutar.\n",
      "\n",
      "Metin şu şekilde verilmiş: \"5 ağUstos 2025 murat ak 4000 tl danışmanlık\". Bu metni analiz etmem gerekiyor.\n",
      "\n",
      "Tarih bölümü için \"5 ağUustos 2025\" var. Buradaki gün, ay ve yıl bilgilerini çıkarmam lazım. Gün: 5, Ay: Ağustos - bu ayın sayısal değeri olarak dönüştürmek zorunlu değil mi? Formatta GG.AA.YYYY olması gerekiyor, yani ayın sayısını kullanmalıyım.\n",
      "\n",
      "İlk adım olarak, metni parçalara ayırıp tarih bilgisini çıkarabilirim. \"5\" gün, \"ağUustos\" ay ve \"2025\" yıl. Tarihi GG.AA.YYYY formatına getirmek için aya karşılık gelen sayıyı bulmam gerekecek.\n",
      "\n",
      "Metinde müşteri bilgileri var mı? \"murat ak\" yazan kısmı müşterinin adı ve soyadı gibi görünüyor. Müşteri: isim soyisim olarak bu bilgiyi kullanabilirim.\n",
      "\n",
      "Açıklama/Tutar için, 4000 tl danışmanlık yazıyor. Tutarın 4000 TL olduğunu ve hizmetin danışmanlık olduğunu anlamak için buradan çıkarabilirsin.\n",
      "\n",
      "Artık formata uygun şekilde düzenlemem gerekiyor:\n",
      "- Tarih: gün ay yıl olarak GG.AA.YYYY\n",
      "- Müşteri: ad soyad\n",
      "- Açıklama: kısa açıklama, tutar ve para birimi\n",
      "\n",
      "Bu bilgileri metinden çıkardıktan sonra, belirtilen formata uygun şekilde sunmam lazım. Belki bazı hataları düzeltebilirim veya standartlaştırmalıyım.\n",
      "\n",
      "Örneğin, tarih \"5 ağUustos 2025\" şeklinde verilmiş ama ayın tamamını büyük harfle yazmışlar, bu biraz karışık olabilir. Formatta AA yerine sayısal değer kullanılmalı, yani Ağustos yerine 08 gibi.\n",
      "\n",
      "Müşteri adı \"murat ak\", burada isim ve soyismi ayrılmış mı? muhtemelen evet, o zaman bunu düzgün bir şekilde kullanabilirim.\n",
      "\n",
      "Açıklama kısmı \"4000 tl danışmanlık\" var. Bu kısmın açıklamasını çıkarmam ve tutarını da belirlemem gerekecek. Para birimi TL olarak verilmiş, bu doğru görünüyor ama formatta Lira/Dolar gibi ifadeler kullanıldığına göre, burada TL yerine Lira yazabilir miyim? Hayır, metinde TL varsa onu kullanmalıyım.\n",
      "\n",
      "Tutar kısmı \"4000\" rakam ve \"tl\" para birimi. Formatta tutarın rakam + Lira/Dolar şeklinde olması gerektiği belirtilmiş, burada TL kullanmam doğru olacaktır.\n",
      "\n",
      "Son olarak, bu bilgileri kullanıcıya şu şekilde sunabilirim:\n",
      "- Tarih: 05.08.2025\n",
      "- Müşteri: murat ak\n",
      "- Açıklama: danışmanlık hizmeti\n",
      "- Tutar: 4000 TL\n",
      "\n",
      "Bu formatta mı? Kontrol etmem gerekiyor. Belirtilen formattaki öğeler tam olarak bu şekilde mi? Evet, görünüyor.\n",
      "\n",
      "Metinden çıkarırken dikkatli olmalıyım. Büyük/küçük harf duyarlılığına dikkat edip, doğru bilgileri alabilirim.\n",
      "\n",
      "Bazı metinlerde tarih yanlışlıkla farklı bir şeyle karışmış olabilir mi? Kontrol etmeliyim ve güvenli bir şekilde çıkarımlarımı yapmalıyım.\n",
      "</think>\n",
      "Tarih: 05.08.2025\n",
      "Müşteri: murat ak\n",
      "Açıklama: danışmanlık\n",
      "Tutar: 4000 TL\n",
      "--------------------------\n",
      "Teşekkür ederiz.\n",
      "\n"
     ]
    }
   ],
   "source": [
    "from ollama import chat\n",
    "\n",
    "def fatura_chatbox():\n",
    "    print(\"ChatBOX Text\")\n",
    "    print(\"Çıkmak için: 'çık', 'exit', 'quit'\\n\")\n",
    "    \n",
    "    while True:\n",
    "        girdi = input(\"Siz: \")\n",
    "        if girdi.lower() in [\"çık\", \"exit\", \"quit\"]:\n",
    "            print(\"Chatbot kapatıldı\")\n",
    "            break\n",
    "\n",
    "        # Modele talimat (Prompt)\n",
    "        prompt = f\"\"\"\n",
    "        Sen bir metinden fatura bilgilerini çıkaran bir asistansın.\n",
    "        Çıktıyı sadece şu formatta ver:\n",
    "        Tarih: (metinden çıkarım yap. Bugün, dün gibi bir ifade varsa cihazdan tarihi al. GG.AA.YYYY Formatında olsun)\n",
    "        Müşteri: (isim soyisim)\n",
    "        Açıklama: (kısa hizmet açıklaması)\n",
    "        Tutar: (rakam + Lira/Dolar vs.)\n",
    "\n",
    "        Metin: \"{girdi}\"\n",
    "        \"\"\"\n",
    "\n",
    "        # Ollama API çağrısı\n",
    "        yanit = chat(model=\"deepseek-r1:8b\", messages=[\n",
    "            {\"role\": \"user\", \"content\": prompt}\n",
    "        ])\n",
    "\n",
    "        bilgi = yanit['message']['content']\n",
    "\n",
    "        # Fatura formatında yazdır\n",
    "        print(\"\\n*************FATURA*************\")\n",
    "        print(\"-\" * 26)\n",
    "        for satir in bilgi.split(\"\\n\"):\n",
    "            print(satir.strip())\n",
    "        print(\"-\" * 26)\n",
    "        print(\"Teşekkür ederiz.\\n\")\n",
    "\n",
    "# Çalıştır\n",
    "fatura_chatbox()"
   ]
  },
  {
   "cell_type": "code",
   "execution_count": null,
   "id": "7f8119af-b208-45b3-8e50-37c508ca7a5e",
   "metadata": {},
   "outputs": [],
   "source": []
  }
 ],
 "metadata": {
  "kernelspec": {
   "display_name": "Python 3 (ipykernel)",
   "language": "python",
   "name": "python3"
  },
  "language_info": {
   "codemirror_mode": {
    "name": "ipython",
    "version": 3
   },
   "file_extension": ".py",
   "mimetype": "text/x-python",
   "name": "python",
   "nbconvert_exporter": "python",
   "pygments_lexer": "ipython3",
   "version": "3.13.3"
  }
 },
 "nbformat": 4,
 "nbformat_minor": 5
}
